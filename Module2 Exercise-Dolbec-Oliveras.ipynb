{
 "cells": [
  {
   "cell_type": "markdown",
   "metadata": {},
   "source": [
    "## Exercises\n",
    "### Write the pseudocode for these problems. \n",
    "\n",
    "#### Define the problem by constructing an IPO diagram showing input, output, and processing steps\n",
    "Ask yourself\n",
    "- What control structures (sequence, selection and repetition) are required?\n",
    "- What variables are required?\n",
    "\n",
    "Show a check of your solution with **test data** for at least **two valid test cases**\n",
    "If you use the numbers provided in the example then the correct pseudocode will calculate the same result.\n",
    "    "
   ]
  },
  {
   "cell_type": "markdown",
   "metadata": {},
   "source": [
    "#### 1. Find the average score\n",
    "A program is needed to prompt the user operator for exam scores, calculate the average score and display the result to the screen. The average score is calculated as the sum of the scores divided by the number of scores."
   ]
  },
  {
   "cell_type": "markdown",
   "metadata": {},
   "source": [
    "BEGIN\n",
    "\n",
    "PROCESS\n",
    "\n",
    "    Set COUNTER to 1\n",
    "    Set TOTAL to 0\n",
    "    Loop COUNTER to when user says that they have entered all exam scores(when user answer is \"No\")\n",
    "    Prompt user for Exam score (number)\n",
    "    \n",
    "INPUT\n",
    "\n",
    "    Get Exam Score\n",
    "    \n",
    "PROCESS\n",
    "\n",
    "    Add Exam Score to TOTAL\n",
    "    Prompt user to answer question: \n",
    "        \"Do you have another exam score to enter?\", \"Answer: Yes or No\"\n",
    "\n",
    "INPUT/DECISION\n",
    "        \n",
    "    Get user answer: \n",
    "        If user's answer is \"Yes\":\n",
    "           Add 1 to Counter \n",
    "        If user's answer is \"No\":\n",
    "            Endloop\n",
    "            Divide TOTAL by COUNTER to get Average\n",
    "OUTPUT \n",
    "\n",
    "    Print Average\n",
    "END\n",
    "Variables: COUNTER, TOTAL, EXAM SCORE, USER ANSWER"
   ]
  },
  {
   "cell_type": "markdown",
   "metadata": {},
   "source": [
    "TEST DATA (2 examples)\n"
   ]
  },
  {
   "cell_type": "markdown",
   "metadata": {},
   "source": [
    "#### 2. How much water runs off a roof in a rain storm?\n",
    "To calculate the runoff from any given rainfall: Take the dimensions of the footprint of the roof and convert them to inches. (So, a 50' x 20' roof is 600\" x 240\"). Multiply the roof dimensions by the number of inches of rainfall. As an example, 600\" x 240\" x 1\" = 144,000 cubic inches of water for an inch of rainfall. Divide that result by 231 to get the number of gallons (because 1 gallon = 231 cubic inches). (144,000/231 = 623.38)."
   ]
  },
  {
   "cell_type": "markdown",
   "metadata": {},
   "source": [
    "INPUT\n",
    "Variables:\n",
    "Length of Roof in feet=50'= L\n",
    "Width of Roof in feet=20' = W\n",
    "Inches of Rainfall= 1\" = r\n",
    "\n",
    "PROCESS\n",
    "Convert Length of Roof in feet to Length of Roof in Inches\n",
    "50'= L\n",
    "L*12\"= 600\" = l\n",
    "\n",
    "Convert Width of Roof in feet to width of Roof in Inches\n",
    "20'= W\n",
    "W*12\"= 240\" = w\n",
    "\n",
    "Multiply the roof dimensions by the number of inches of rainfall\n",
    "l * w * r = 144,000 cubic inches of water for an inch of rainfall\n",
    "\n",
    "Calculate gallons of rainfall\n",
    "(l * w * r)/231 = 623.38 gallons = G\n",
    "\n",
    "OUTPUT\n",
    "G=gallons of runoff given any rainfall\n",
    "    "
   ]
  },
  {
   "cell_type": "markdown",
   "metadata": {},
   "source": [
    "#### 3. Process customer record\n",
    "A program is required to read a customer’s name, a purchase amount and a tax code. The tax code has been validated and will be one of the following: 0 tax exempt (0%) 1 state sales tax only (3%) 2 federal and state sales tax (5%) 3 special sales tax (7%) The program must then compute the sales tax and the total amount due,and print the customer’s name, purchase amount, sales tax and total amount due."
   ]
  },
  {
   "cell_type": "markdown",
   "metadata": {},
   "source": [
    "BEGIN\n",
    "##INPUT\n",
    "###Variables\n",
    "Customer name=\n",
    "Purchase amount=\n",
    "Tax code options= \"0\" or \"1\" or \"2\" or \"3\"\n",
    "\n",
    "##PROCESS\n",
    "Read and Store the Customer Name\n",
    "Read and Store Purchase amount\n",
    "Read and Store tax code\n",
    "Compute the sales tax AND Totaly Amount due\n",
    "For \"0\": 0Sales Tax=0 AND Total Amount due = Purchase Amount\n",
    "For \"1\": 1Sales Tax= Purchase amount * .03 AND Total Amount due= 1Sales Tax + Purchase Amount\n",
    "For \"2\": 2Sales Tax= Purchase amount * .05 AND Total Amount due= 2Sales Tax + Purchase Amount\n",
    "For \"3\": 3Sales Tax= Purchase amount * .07 AND Total Amount due= 3Sales Tax + Purchase Amount\n",
    "\n",
    "##OUTPUT\n",
    "Print Customer's name\n",
    "Print Purchase amount\n",
    "Print Sales Tax\n",
    "Print Total Amount due\n"
   ]
  },
  {
   "cell_type": "markdown",
   "metadata": {},
   "source": [
    "#### 4. Calculate employee's pay \n",
    "A program is required by a company to read an employee’s number, pay rate and the number of hours worked in a week. The program is then to validate the pay rate field and the hours worked field and, if valid, compute the employee’s weekly pay and then print it and the input data.\n",
    "\n",
    "Validation: According to the company’s rules, the maximum hours an employee can work per week is 60 hours, and the maximum hourly rate is $25.00 per hour. If the hours worked field or the hourly rate field is out of range, the input data and an appropriate message are to be printed and the employee’s weekly pay is not to be calculated.\n",
    "\n",
    "Weekly pay calculation: Weekly pay is calculated as hours worked times pay rate. If more than 35 hours are worked, payment for the overtime hours worked is calculated at time-and-a-half."
   ]
  },
  {
   "cell_type": "markdown",
   "metadata": {},
   "source": [
    "BEGIN\n",
    "##INPUT\n",
    "n=Employee's number\n",
    "r=Employee's Pay Rate\n",
    "h=Number of hours worked in a week\n",
    "valid hours= yes or no\n",
    "valid pay rate= yes or no\n",
    "\n",
    "##PROCESS\n",
    "Compute employees weekly pay: r*n= W\n",
    "Validate weekly pay rate: W/n=r, yes or no\n",
    "If yes, weekly pay rate is valid and Print \"Weekly pay rate is valid\"\n",
    "Else, Print \"Weekly pay rate is not valid\"\n",
    "Validate weekly hours: W/r=n, yes or no\n",
    "If yes, weekly hours worked is valid and Print \"Weekly hours worked is valid\"\n",
    "Else, Print \"Weekly hours worked is not valid\"\n",
    "\n",
    "##OUTPUT\n",
    "Print Employee's Weekly pay =W\n",
    "Save Employee's Weekly pay =S\n",
    "\n",
    "END"
   ]
  }
 ],
 "metadata": {
  "kernelspec": {
   "display_name": "Python 3 (ipykernel)",
   "language": "python",
   "name": "python3"
  },
  "language_info": {
   "codemirror_mode": {
    "name": "ipython",
    "version": 3
   },
   "file_extension": ".py",
   "mimetype": "text/x-python",
   "name": "python",
   "nbconvert_exporter": "python",
   "pygments_lexer": "ipython3",
   "version": "3.11.7"
  }
 },
 "nbformat": 4,
 "nbformat_minor": 4
}
